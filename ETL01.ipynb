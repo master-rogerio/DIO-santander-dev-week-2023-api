{
  "nbformat": 4,
  "nbformat_minor": 0,
  "metadata": {
    "colab": {
      "provenance": [],
      "authorship_tag": "ABX9TyMiiESevMAAKNBTWQjc2rGd",
      "include_colab_link": true
    },
    "kernelspec": {
      "name": "python3",
      "display_name": "Python 3"
    },
    "language_info": {
      "name": "python"
    }
  },
  "cells": [
    {
      "cell_type": "markdown",
      "metadata": {
        "id": "view-in-github",
        "colab_type": "text"
      },
      "source": [
        "<a href=\"https://colab.research.google.com/github/master-rogerio/DIO-santander-dev-week-2023-api/blob/main/ETL01.ipynb\" target=\"_parent\"><img src=\"https://colab.research.google.com/assets/colab-badge.svg\" alt=\"Open In Colab\"/></a>"
      ]
    },
    {
      "cell_type": "markdown",
      "source": [
        "# Desafio **ETL** **Python** Santander Dev Week 2023\n",
        "\n",
        "\n"
      ],
      "metadata": {
        "id": "_4iz7KabZsDQ"
      }
    },
    {
      "cell_type": "code",
      "source": [
        "# Fazendo a Extração do arquivo .csv\n",
        "\n",
        "import pandas as pd\n",
        "\n",
        "  pl = pd.read_csv('dados.csv')\n",
        "  valores = pl['vendas'].tolist()\n",
        "  print(valores)\n"
      ],
      "metadata": {
        "id": "ka321mClZ8YM"
      },
      "execution_count": null,
      "outputs": []
    },
    {
      "cell_type": "code",
      "source": [
        "# Realizando a Transformação (Cálculo da Média e Desvio Padrão) dos dados extraídos da planilha\n",
        "\n",
        "media = sum(valores) / len(valores)\n",
        "desvio_pd = (sum((i - media) ** 2 for i in valores) / len(valores)) ** 0.5\n",
        "\n"
      ],
      "metadata": {
        "id": "kqquQfeWaw1g"
      },
      "execution_count": null,
      "outputs": []
    },
    {
      "cell_type": "code",
      "source": [
        "#Realizando o Load da média e desvio padrão na planilha\n",
        "\n",
        "pl.loc['Média'] = [media if col == 'vendas' else '' for col in pl.columns]\n",
        "pl.loc['Desvio Padrão'] = [desvio_pd if col == 'vendas' else '' for col in pl.columns]\n",
        "\n",
        "pl.to_csv('dados.csv', index=false)"
      ],
      "metadata": {
        "id": "2JQdpFqgdHf4"
      },
      "execution_count": null,
      "outputs": []
    }
  ]
}