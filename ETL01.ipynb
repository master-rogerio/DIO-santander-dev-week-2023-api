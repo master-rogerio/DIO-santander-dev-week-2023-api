{
  "nbformat": 4,
  "nbformat_minor": 0,
  "metadata": {
    "colab": {
      "provenance": [],
      "authorship_tag": "ABX9TyMiGKZxwXBf3ONZcXFVgxoD",
      "include_colab_link": true
    },
    "kernelspec": {
      "name": "python3",
      "display_name": "Python 3"
    },
    "language_info": {
      "name": "python"
    }
  },
  "cells": [
    {
      "cell_type": "markdown",
      "metadata": {
        "id": "view-in-github",
        "colab_type": "text"
      },
      "source": [
        "<a href=\"https://colab.research.google.com/github/master-rogerio/DIO-santander-dev-week-2023-api/blob/main/ETL01.ipynb\" target=\"_parent\"><img src=\"https://colab.research.google.com/assets/colab-badge.svg\" alt=\"Open In Colab\"/></a>"
      ]
    },
    {
      "cell_type": "markdown",
      "source": [
        "# Desafio **ETL** **Python** Santander Dev Week 2023\n",
        "\n",
        "\n"
      ],
      "metadata": {
        "id": "_4iz7KabZsDQ"
      }
    },
    {
      "cell_type": "code",
      "source": [
        "# Fazendo a Extração do arquivo .csv\n",
        "\n",
        "import pandas as pd\n",
        "\n",
        "pl = pd.read_csv('/content/dados.csv')\n",
        "valores = pl['vendas'].tolist()\n",
        "print(valores)\n"
      ],
      "metadata": {
        "colab": {
          "base_uri": "https://localhost:8080/"
        },
        "id": "ka321mClZ8YM",
        "outputId": "805f6348-be42-4dd8-9121-4d76a68138c9"
      },
      "execution_count": 10,
      "outputs": [
        {
          "output_type": "stream",
          "name": "stdout",
          "text": [
            "[28000, 55000, 13000, 2000, 666666, 342, 12319, 829182, 897442]\n"
          ]
        }
      ]
    },
    {
      "cell_type": "code",
      "source": [
        "# Realizando a Transformação (Cálculo da Média e Desvio Padrão) dos dados extraídos da planilha\n",
        "\n",
        "media = sum(valores) / len(valores)\n",
        "\n",
        "print(media)\n"
      ],
      "metadata": {
        "colab": {
          "base_uri": "https://localhost:8080/"
        },
        "id": "kqquQfeWaw1g",
        "outputId": "ee680769-498d-486d-b599-1270cc954083"
      },
      "execution_count": 14,
      "outputs": [
        {
          "output_type": "stream",
          "name": "stdout",
          "text": [
            "278216.77777777775\n"
          ]
        }
      ]
    },
    {
      "cell_type": "code",
      "source": [
        "#Realizando o Load da média e desvio padrão na planilha\n",
        "\n",
        "pl.loc['Média'] = [media if col == 'vendas' else '' for col in pl.columns]\n",
        "\n",
        "\n",
        "pl.to_csv('dados.csv', index = False)"
      ],
      "metadata": {
        "id": "2JQdpFqgdHf4"
      },
      "execution_count": 16,
      "outputs": []
    }
  ]
}