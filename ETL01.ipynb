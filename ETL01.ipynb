{
  "nbformat": 4,
  "nbformat_minor": 0,
  "metadata": {
    "colab": {
      "provenance": [],
      "authorship_tag": "ABX9TyNzI2LF2Po9IOeSetGVyMyT",
      "include_colab_link": true
    },
    "kernelspec": {
      "name": "python3",
      "display_name": "Python 3"
    },
    "language_info": {
      "name": "python"
    }
  },
  "cells": [
    {
      "cell_type": "markdown",
      "metadata": {
        "id": "view-in-github",
        "colab_type": "text"
      },
      "source": [
        "<a href=\"https://colab.research.google.com/github/master-rogerio/DIO-santander-dev-week-2023-api/blob/main/ETL01.ipynb\" target=\"_parent\"><img src=\"https://colab.research.google.com/assets/colab-badge.svg\" alt=\"Open In Colab\"/></a>"
      ]
    },
    {
      "cell_type": "markdown",
      "source": [
        "# Desafio **ETL** **Python** Santander Dev Week 2023\n",
        "\n",
        "\n"
      ],
      "metadata": {
        "id": "_4iz7KabZsDQ"
      }
    },
    {
      "cell_type": "code",
      "source": [
        "# Fazendo a Extração do arquivo .csv\n",
        "\n",
        "import pandas as pd\n",
        "\n",
        "pl = pd.read_csv('/content/dados.csv')\n",
        "valores = pl['vendas'].tolist()\n",
        "print(valores)\n"
      ],
      "metadata": {
        "colab": {
          "base_uri": "https://localhost:8080/"
        },
        "id": "ka321mClZ8YM",
        "outputId": "49a1300a-7998-430b-af32-a3569a386e69"
      },
      "execution_count": 17,
      "outputs": [
        {
          "output_type": "stream",
          "name": "stdout",
          "text": [
            "[28000.0, 55000.0, 13000.0, 2000.0, 666666.0, 342.0, 12319.0, 829182.0, 897442.0, 278216.7777777777, 371914.1453847702]\n"
          ]
        }
      ]
    },
    {
      "cell_type": "code",
      "source": [
        "# Realizando a Transformação (Cálculo da Média) dos dados extraídos da planilha\n",
        "\n",
        "media = sum(valores) / len(valores)\n",
        "\n",
        "print(media)\n"
      ],
      "metadata": {
        "colab": {
          "base_uri": "https://localhost:8080/"
        },
        "id": "kqquQfeWaw1g",
        "outputId": "79ec796e-219e-46e3-802c-bcfc6f3e67fc"
      },
      "execution_count": 18,
      "outputs": [
        {
          "output_type": "stream",
          "name": "stdout",
          "text": [
            "286734.7202875044\n"
          ]
        }
      ]
    },
    {
      "cell_type": "code",
      "source": [
        "#Realizando o Load da média na planilha\n",
        "\n",
        "pl.loc['Média'] = [media if col == 'vendas' else '' for col in pl.columns]\n",
        "\n",
        "\n",
        "pl.to_csv('dados.csv', index = False)"
      ],
      "metadata": {
        "id": "2JQdpFqgdHf4"
      },
      "execution_count": 19,
      "outputs": []
    }
  ]
}